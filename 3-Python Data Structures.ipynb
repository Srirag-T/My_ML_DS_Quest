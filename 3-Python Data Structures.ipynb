{
 "cells": [
  {
   "cell_type": "markdown",
   "id": "1f4d4031",
   "metadata": {},
   "source": [
    "### List"
   ]
  },
  {
   "cell_type": "markdown",
   "id": "a1a82c66",
   "metadata": {},
   "source": [
    "is basically collection of data of different types of data, it is represented or intialized in form of square brackets '[]'\n",
    "\n",
    "lst = [1,2,3,4,5]\n",
    "each element is separated by comma ','\n",
    "\n",
    "Use case: \n",
    "student 1 = [1,'Srirag','0032',89,97,85]\n",
    "\n",
    "you can store different types of data into one list"
   ]
  },
  {
   "cell_type": "code",
   "execution_count": 37,
   "id": "7abd3390",
   "metadata": {},
   "outputs": [],
   "source": [
    "lst = ['Srirag','Shiva','Rohan','Sujith','Hari','Jayanth','Nishanth']"
   ]
  },
  {
   "cell_type": "code",
   "execution_count": 38,
   "id": "aa0d70e1",
   "metadata": {},
   "outputs": [
    {
     "name": "stdout",
     "output_type": "stream",
     "text": [
      "['Srirag', 'Shiva', 'Rohan', 'Sujith', 'Hari', 'Jayanth', 'Nishanth']\n"
     ]
    }
   ],
   "source": [
    "print(lst)"
   ]
  },
  {
   "cell_type": "code",
   "execution_count": 39,
   "id": "aaf829d2",
   "metadata": {},
   "outputs": [
    {
     "name": "stdout",
     "output_type": "stream",
     "text": [
      "Srirag\n"
     ]
    }
   ],
   "source": [
    "#access the elements through indexing\n",
    "print(lst[0])"
   ]
  },
  {
   "cell_type": "code",
   "execution_count": 40,
   "id": "8ecb3669",
   "metadata": {},
   "outputs": [
    {
     "name": "stdout",
     "output_type": "stream",
     "text": [
      "Jayanth\n"
     ]
    }
   ],
   "source": [
    "print(lst[5])"
   ]
  },
  {
   "cell_type": "code",
   "execution_count": 41,
   "id": "a5aeaf65",
   "metadata": {},
   "outputs": [
    {
     "name": "stdout",
     "output_type": "stream",
     "text": [
      "Nishanth\n"
     ]
    }
   ],
   "source": [
    "print(lst[-1])"
   ]
  },
  {
   "cell_type": "code",
   "execution_count": 42,
   "id": "d52c355d",
   "metadata": {},
   "outputs": [
    {
     "name": "stdout",
     "output_type": "stream",
     "text": [
      "before: ['Srirag', 'Shiva', 'Rohan', 'Sujith', 'Hari', 'Jayanth', 'Nishanth']\n",
      "after: ['Srirag', 'Shiva', 'Rohith', 'Sujith', 'Hari', 'Jayanth', 'Nishanth']\n"
     ]
    }
   ],
   "source": [
    "#modify values\n",
    "print('before:' ,lst)\n",
    "lst[2]='Rohith'\n",
    "print('after:',lst)"
   ]
  },
  {
   "cell_type": "markdown",
   "id": "8f5eb346",
   "metadata": {},
   "source": [
    "[start:stop:steps]"
   ]
  },
  {
   "cell_type": "code",
   "execution_count": 43,
   "id": "01311e85",
   "metadata": {},
   "outputs": [
    {
     "name": "stdout",
     "output_type": "stream",
     "text": [
      "['Shiva', 'Rohith', 'Sujith']\n"
     ]
    }
   ],
   "source": [
    "#slicing\n",
    "print(lst[1:4])"
   ]
  },
  {
   "cell_type": "code",
   "execution_count": 44,
   "id": "d85242ac",
   "metadata": {},
   "outputs": [
    {
     "name": "stdout",
     "output_type": "stream",
     "text": [
      "['Nishanth', 'Jayanth', 'Hari', 'Sujith', 'Rohith', 'Shiva', 'Srirag']\n",
      "['Nishanth', 'Hari', 'Rohith', 'Srirag']\n"
     ]
    }
   ],
   "source": [
    "#reverse a list with steps\n",
    "print(lst[::-1])\n",
    "#steps \n",
    "print(lst[::-2])"
   ]
  },
  {
   "cell_type": "code",
   "execution_count": 45,
   "id": "8fb8981e",
   "metadata": {},
   "outputs": [
    {
     "name": "stdout",
     "output_type": "stream",
     "text": [
      "['Srirag', 'Shiva', 'Rohith', 'Sujith', 'Hari', 'Jayanth', 'Nishanth']\n",
      "['Srirag', 'Shiva', 'Rohith', 'Sujith', 'Hari', 'Jayanth', 'Nishanth', 'Rohan']\n"
     ]
    }
   ],
   "source": [
    "#appending \n",
    "print(lst)\n",
    "lst.append('Rohan')\n",
    "print(lst)"
   ]
  },
  {
   "cell_type": "code",
   "execution_count": 46,
   "id": "f5c84d13",
   "metadata": {},
   "outputs": [
    {
     "name": "stdout",
     "output_type": "stream",
     "text": [
      "['Srirag', 'Shiva', 'Rohith', 'Sujith', 'Hari', 'Jayanth', 'Nishanth', 'Rohan']\n",
      "['Srirag', 'Shiva', 'Sujith', 'Hari', 'Jayanth', 'Nishanth', 'Rohan']\n"
     ]
    }
   ],
   "source": [
    "#removing \n",
    "print(lst)\n",
    "lst.remove('Rohith')\n",
    "print(lst)"
   ]
  },
  {
   "cell_type": "code",
   "execution_count": 47,
   "id": "1c57321a",
   "metadata": {},
   "outputs": [
    {
     "name": "stdout",
     "output_type": "stream",
     "text": [
      "7\n"
     ]
    }
   ],
   "source": [
    "#length\n",
    "print(len(lst))"
   ]
  },
  {
   "cell_type": "code",
   "execution_count": 48,
   "id": "79c9bb16",
   "metadata": {},
   "outputs": [
    {
     "name": "stdout",
     "output_type": "stream",
     "text": [
      "[1, 4, 10, 32, 53, 11, 2, 6]\n",
      "[1, 2, 4, 6, 10, 11, 32, 53]\n"
     ]
    }
   ],
   "source": [
    "#sorting\n",
    "lst2=[1,4,10,32,53,11,2,6]\n",
    "print(lst2)\n",
    "print(sorted(lst2))"
   ]
  },
  {
   "cell_type": "code",
   "execution_count": 49,
   "id": "af347b79",
   "metadata": {},
   "outputs": [
    {
     "name": "stdout",
     "output_type": "stream",
     "text": [
      "0\n",
      "6\n"
     ]
    }
   ],
   "source": [
    "#find the element\n",
    "print(lst.index('Srirag'))\n",
    "print(lst.index('Rohan'))"
   ]
  },
  {
   "cell_type": "code",
   "execution_count": 50,
   "id": "8d4beed7",
   "metadata": {},
   "outputs": [
    {
     "name": "stdout",
     "output_type": "stream",
     "text": [
      "1\n"
     ]
    }
   ],
   "source": [
    "#count the frequency\n",
    "print(lst.count('Srirag'))"
   ]
  },
  {
   "cell_type": "code",
   "execution_count": 51,
   "id": "f3ee1e4d",
   "metadata": {},
   "outputs": [
    {
     "name": "stdout",
     "output_type": "stream",
     "text": [
      "['Srirag', 'Shiva', 'Sujith', 'Hari', 'Jayanth', 'Nishanth', 'Rohan', 'Ajay', 'Phani']\n"
     ]
    }
   ],
   "source": [
    "#Extending\n",
    "lst.extend(['Ajay','Phani'])\n",
    "print(lst)"
   ]
  },
  {
   "cell_type": "markdown",
   "id": "85b1e149",
   "metadata": {},
   "source": [
    "Difference between Extending and Appending?\n",
    "\n",
    "Appending basically go one by one adding into the list.\n",
    "Extending you can add mutliple values into the list."
   ]
  },
  {
   "cell_type": "code",
   "execution_count": 52,
   "id": "e182a6a9",
   "metadata": {},
   "outputs": [
    {
     "name": "stdout",
     "output_type": "stream",
     "text": [
      "[1, 4, 10, 32, 53, 11, 2, 6]\n",
      "53\n",
      "1\n"
     ]
    }
   ],
   "source": [
    "#finding maxmium value and minumum value\n",
    "print(lst2)\n",
    "print(max(lst2))\n",
    "print(min(lst2))"
   ]
  },
  {
   "cell_type": "code",
   "execution_count": 53,
   "id": "aa775e7b",
   "metadata": {},
   "outputs": [
    {
     "name": "stdout",
     "output_type": "stream",
     "text": [
      "['Srirag', 'Shiva', 'Sujith', 'Hari', 'Jayanth', 'Nishanth', 'Rohan', 'Ajay', 'Phani']\n",
      "--------------------\n",
      "Srirag\n",
      "Shiva\n",
      "Sujith\n",
      "Hari\n",
      "Jayanth\n",
      "Nishanth\n",
      "Rohan\n",
      "Ajay\n",
      "Phani\n"
     ]
    }
   ],
   "source": [
    "#iterating the elements into list - Direct\n",
    "print(lst)\n",
    "print('-'*20)\n",
    "for name in lst:\n",
    "    print(name)"
   ]
  },
  {
   "cell_type": "code",
   "execution_count": 54,
   "id": "6613aead",
   "metadata": {},
   "outputs": [
    {
     "name": "stdout",
     "output_type": "stream",
     "text": [
      "['Srirag', 'Shiva', 'Sujith', 'Hari', 'Jayanth', 'Nishanth', 'Rohan', 'Ajay', 'Phani']\n",
      "--------------------\n",
      "Srirag\n",
      "Shiva\n",
      "Sujith\n",
      "Hari\n",
      "Jayanth\n",
      "Nishanth\n",
      "Rohan\n",
      "Ajay\n",
      "Phani\n"
     ]
    }
   ],
   "source": [
    "#iterating the elements into list - indexing\n",
    "print(lst)\n",
    "print('-'*20)\n",
    "for i in range(len(lst)):\n",
    "    print(lst[i])"
   ]
  },
  {
   "cell_type": "code",
   "execution_count": 55,
   "id": "7e2c5fe7",
   "metadata": {},
   "outputs": [
    {
     "name": "stdout",
     "output_type": "stream",
     "text": [
      "['Srirag', 'Shiva', 'Sujith', 'Hari', 'Jayanth', 'Nishanth', 'Rohan', 'Ajay', 'Phani']\n",
      "--------------------\n",
      "Phani\n",
      "Ajay\n",
      "Rohan\n",
      "Nishanth\n",
      "Jayanth\n",
      "Hari\n",
      "Sujith\n",
      "Shiva\n",
      "Srirag\n"
     ]
    }
   ],
   "source": [
    "#iterating the elements into list - indexing - reverse\n",
    "print(lst)\n",
    "print('-'*20)\n",
    "n = len(lst)-1\n",
    "#(start:stop:steps)\n",
    "for i in range(n,-1,-1):\n",
    "    print(lst[i])"
   ]
  },
  {
   "cell_type": "markdown",
   "id": "c2750151",
   "metadata": {},
   "source": [
    "### Multi-dimensional List\n",
    "\n",
    "Basically List inside the List\n",
    "\n",
    "examples:\n",
    "\n",
    "lst = [['Srirag',0032,98,78,87],['Rohan',0074,98,76,88]]\n",
    "\n",
    "lst[0] = ['Srirag',0032,98,78,87]\n",
    "\n",
    "lst 1 = [[1,2,3],[1,2,3,4],[[1,2,3],[3,4,5,6]]]"
   ]
  },
  {
   "cell_type": "code",
   "execution_count": 56,
   "id": "2e1fe078",
   "metadata": {},
   "outputs": [],
   "source": [
    "lst2 = [[1,2,3],[4,5,6],[7,8,9]]"
   ]
  },
  {
   "cell_type": "code",
   "execution_count": 57,
   "id": "9a83eab8",
   "metadata": {},
   "outputs": [
    {
     "name": "stdout",
     "output_type": "stream",
     "text": [
      "[[1, 2, 3], [4, 5, 6], [7, 8, 9]]\n"
     ]
    }
   ],
   "source": [
    "print(lst2)"
   ]
  },
  {
   "cell_type": "code",
   "execution_count": 58,
   "id": "1fe78cc9",
   "metadata": {},
   "outputs": [
    {
     "name": "stdout",
     "output_type": "stream",
     "text": [
      "[[1, 2, 3], [4, 5, 6], [7, 8, 9]]\n",
      "[1, 2, 3]\n",
      "2\n"
     ]
    }
   ],
   "source": [
    "#accessing the elements\n",
    "print(lst2)\n",
    "print(lst2[0])\n",
    "print(lst2[0][1])"
   ]
  },
  {
   "cell_type": "code",
   "execution_count": 59,
   "id": "753c38ec",
   "metadata": {},
   "outputs": [
    {
     "name": "stdout",
     "output_type": "stream",
     "text": [
      "[[1, 2, 3], [4, 5, 6], [7, 8, 9]]\n",
      "[[1, 2, 3], [4, 0, 6], [7, 8, 9]]\n",
      "[[1, 2, 3], ['Srirag', 32], [7, 8, 9]]\n",
      "[[1, 2, 3], ['Srirag', 32]]\n"
     ]
    }
   ],
   "source": [
    "#modify the values\n",
    "print(lst2)\n",
    "lst2[1][1]=0\n",
    "print(lst2)\n",
    "lst2[1]=['Srirag',32]\n",
    "print(lst2)\n",
    "print(lst2[0:2])"
   ]
  },
  {
   "cell_type": "code",
   "execution_count": 60,
   "id": "8e689822",
   "metadata": {},
   "outputs": [
    {
     "name": "stdout",
     "output_type": "stream",
     "text": [
      "[[1, 2, 3], ['Srirag', 32], [7, 8, 9]]\n",
      "[[1, 2, 3], ['Srirag', 32], [7, 8, 9], [11, 12, 13]]\n"
     ]
    }
   ],
   "source": [
    "#appending the values\n",
    "print(lst2)\n",
    "lst2.append([11,12,13])\n",
    "print(lst2)"
   ]
  },
  {
   "cell_type": "code",
   "execution_count": 61,
   "id": "1213ad55",
   "metadata": {},
   "outputs": [
    {
     "name": "stdout",
     "output_type": "stream",
     "text": [
      "[[1, 2, 3], ['Srirag', 32], [7, 8, 9], [11, 12, 13]]\n",
      "[[1, 2, 3], ['Srirag', 32], [7, 8, 9]]\n"
     ]
    }
   ],
   "source": [
    "#delete the index\n",
    "print(lst2)\n",
    "del lst2[3]\n",
    "print(lst2)"
   ]
  },
  {
   "cell_type": "code",
   "execution_count": 62,
   "id": "690f3339",
   "metadata": {},
   "outputs": [
    {
     "name": "stdout",
     "output_type": "stream",
     "text": [
      "5\n"
     ]
    }
   ],
   "source": [
    "#length of the lst\n",
    "lst3=[1,2,3,4,[1,2,3]]\n",
    "print(len(lst3))"
   ]
  },
  {
   "cell_type": "code",
   "execution_count": 63,
   "id": "4e9e238e",
   "metadata": {},
   "outputs": [
    {
     "name": "stdout",
     "output_type": "stream",
     "text": [
      "[[1, 2, 3], 4, 3, 2, 1]\n"
     ]
    }
   ],
   "source": [
    "#reversing lst\n",
    "print(lst3[::-1])"
   ]
  },
  {
   "cell_type": "code",
   "execution_count": 77,
   "id": "5e23b9ca",
   "metadata": {},
   "outputs": [
    {
     "name": "stdout",
     "output_type": "stream",
     "text": [
      "[1, 2, 3, 4, [1, 2, 3]]\n"
     ]
    },
    {
     "ename": "TypeError",
     "evalue": "'int' object is not iterable",
     "output_type": "error",
     "traceback": [
      "\u001b[1;31m---------------------------------------------------------------------------\u001b[0m",
      "\u001b[1;31mTypeError\u001b[0m                                 Traceback (most recent call last)",
      "Cell \u001b[1;32mIn[77], line 4\u001b[0m\n\u001b[0;32m      2\u001b[0m \u001b[38;5;28mprint\u001b[39m(lst3)\n\u001b[0;32m      3\u001b[0m \u001b[38;5;28;01mfor\u001b[39;00m sublist \u001b[38;5;129;01min\u001b[39;00m lst3:\n\u001b[1;32m----> 4\u001b[0m     \u001b[38;5;28;01mfor\u001b[39;00m element \u001b[38;5;129;01min\u001b[39;00m sublist:\n\u001b[0;32m      5\u001b[0m         \u001b[38;5;28mprint\u001b[39m(element)\n",
      "\u001b[1;31mTypeError\u001b[0m: 'int' object is not iterable"
     ]
    }
   ],
   "source": [
    "#accessing all the elements\n",
    "print(lst3)\n",
    "for sublist in lst3:\n",
    "    for element in sublist:\n",
    "        print(element)  \n",
    "        #throwing error need check later."
   ]
  },
  {
   "cell_type": "markdown",
   "id": "b0c38657",
   "metadata": {},
   "source": [
    "### List Comprehension"
   ]
  },
  {
   "cell_type": "code",
   "execution_count": 74,
   "id": "90e4ef4a",
   "metadata": {},
   "outputs": [
    {
     "name": "stdout",
     "output_type": "stream",
     "text": [
      "[1, 4, 9, 16, 25, 36, 49, 64, 81]\n",
      "[4, 16, 36, 64]\n"
     ]
    }
   ],
   "source": [
    "lst4=[1,2,3,4,5,6,7,8,9]\n",
    "s=[i**2 for i in lst4] #list comprehension\n",
    "print(s)\n",
    " \n",
    "r = [s[i] for i in range(len(s)) if s[i]%2==0] #list comprehension\n",
    "print(r)"
   ]
  },
  {
   "cell_type": "code",
   "execution_count": null,
   "id": "d94cd677",
   "metadata": {},
   "outputs": [],
   "source": [
    "#list comprehension with multi dimension list\n",
    "lst3=[1,2,3,4,[1,2,3]]\n",
    "print(lst3)\n",
    "lst6 = [sublist for sublist in lst3]\n",
    "print(lst6)"
   ]
  },
  {
   "cell_type": "code",
   "execution_count": null,
   "id": "bddf347c",
   "metadata": {},
   "outputs": [],
   "source": [
    "#accessing all the elements\n",
    "lst7 = [[1,2,3],[4,5,6],[7,8,9]]\n",
    "print(lst7)\n",
    "lst8 = [[j for j in i]for i in lst7]\n",
    "print(lst8)"
   ]
  },
  {
   "cell_type": "markdown",
   "id": "97f325ee",
   "metadata": {},
   "source": [
    "### Dictionary"
   ]
  },
  {
   "cell_type": "markdown",
   "id": "e9273ba4",
   "metadata": {},
   "source": [
    "it follows key value pair {Key1:value1,key2:value2}, every pair is comma separated."
   ]
  },
  {
   "cell_type": "markdown",
   "id": "4b513799",
   "metadata": {},
   "source": [
    "functionality for dictionary: \n",
    "\n",
    "    i) you cannot have same keys in same dictionary. if duplicated, key will have updated value.\n",
    "    ii) keys should be unique and key can be any datatype."
   ]
  },
  {
   "cell_type": "code",
   "execution_count": 67,
   "id": "d24c9ac1",
   "metadata": {},
   "outputs": [
    {
     "name": "stdout",
     "output_type": "stream",
     "text": [
      "{1: 'Srirag', 2: 'Shiva', 3: 'Hari', 4: 'Rohan', 5: 'Sujith'}\n"
     ]
    }
   ],
   "source": [
    "#Initialzing the dictionary\n",
    "dct = {1:'Srirag',2:'Shiva',3:'Hari',4:'Rohan',5:'Sujith'}\n",
    "print(dct)"
   ]
  },
  {
   "cell_type": "code",
   "execution_count": 68,
   "id": "19d09994",
   "metadata": {},
   "outputs": [
    {
     "name": "stdout",
     "output_type": "stream",
     "text": [
      "{1: 'Sujith', 2: 'Shiva', 3: 'Hari', 4: 'Rohan'}\n"
     ]
    }
   ],
   "source": [
    "dct = {1:'Srirag',2:'Shiva',3:'Hari',4:'Rohan',1:'Sujith'}\n",
    "print(dct)"
   ]
  },
  {
   "cell_type": "code",
   "execution_count": 69,
   "id": "976ae478",
   "metadata": {},
   "outputs": [
    {
     "name": "stdout",
     "output_type": "stream",
     "text": [
      "{1: 'Srirag', 2: 'Shiva', 3: 'Hari', 4: 'Rohan', '1': 'Sujith'}\n"
     ]
    }
   ],
   "source": [
    "dct = {1:'Srirag',2:'Shiva',3:'Hari',4:'Rohan','1':'Sujith'} #Datatype is different\n",
    "print(dct)"
   ]
  },
  {
   "cell_type": "code",
   "execution_count": 70,
   "id": "0ff3db93",
   "metadata": {},
   "outputs": [],
   "source": [
    "dct = {1:'Srirag',2:'Shiva',3:'Hari',4:'Rohan',5:'Sujith'}"
   ]
  },
  {
   "cell_type": "code",
   "execution_count": 81,
   "id": "c65aa502",
   "metadata": {},
   "outputs": [
    {
     "name": "stdout",
     "output_type": "stream",
     "text": [
      "{1: 'Srirag', 2: 'Shiva', 3: 'Hari', 4: 'Rohan', 5: 'Sujith'}\n",
      "Srirag\n",
      "Srirag\n"
     ]
    }
   ],
   "source": [
    "#Accessing the elements\n",
    "print(dct)\n",
    "print(dct[1])\n",
    "print(dct.get(1))"
   ]
  },
  {
   "cell_type": "code",
   "execution_count": 85,
   "id": "8c106598",
   "metadata": {},
   "outputs": [
    {
     "name": "stdout",
     "output_type": "stream",
     "text": [
      "{1: 'Srirag', 2: 'Shiva', 3: 'Hari', 4: 'Rohan', 5: 'Sujith'}\n",
      "{1: 'Srirag', 2: 'Shiva', 3: 'Hari', 4: 'Rohan', 5: 'Sujith', 6: 'Nishanth'}\n"
     ]
    }
   ],
   "source": [
    "#Adding and updating the key value pairs\n",
    "print(dct)\n",
    "dct[6]='Nishanth'\n",
    "print(dct)"
   ]
  },
  {
   "cell_type": "code",
   "execution_count": 86,
   "id": "68ce33ca",
   "metadata": {},
   "outputs": [
    {
     "name": "stdout",
     "output_type": "stream",
     "text": [
      "{1: 'Srirag', 2: 'Shiva', 3: 'Hari', 4: 'Rohan', 5: 'Sujith'}\n"
     ]
    }
   ],
   "source": [
    "del dct[6]\n",
    "print(dct)"
   ]
  },
  {
   "cell_type": "code",
   "execution_count": 87,
   "id": "984d5f5a",
   "metadata": {},
   "outputs": [
    {
     "name": "stdout",
     "output_type": "stream",
     "text": [
      "{1: 'Srirag', 2: 'Shiva', 3: 'Hari', 4: 'Rohan', 5: 'Sujith'}\n",
      "{}\n"
     ]
    }
   ],
   "source": [
    "#cleaning the dictionary\n",
    "print(dct)\n",
    "dct.clear()\n",
    "print(dct)"
   ]
  },
  {
   "cell_type": "code",
   "execution_count": 92,
   "id": "76e0febf",
   "metadata": {},
   "outputs": [
    {
     "name": "stdout",
     "output_type": "stream",
     "text": [
      "{1: 'Srirag', 2: 'Shiva', 3: 'Hari', 4: 'Rohan', 5: 'Sujith'}\n",
      "dict_keys([1, 2, 3, 4, 5])\n",
      "dict_values(['Srirag', 'Shiva', 'Hari', 'Rohan', 'Sujith'])\n"
     ]
    }
   ],
   "source": [
    "#Iterating through the dictionary\n",
    "dct = {1:'Srirag',2:'Shiva',3:'Hari',4:'Rohan',5:'Sujith'}\n",
    "print(dct)\n",
    "print(dct.keys())\n",
    "print(dct.values())"
   ]
  },
  {
   "cell_type": "code",
   "execution_count": 93,
   "id": "a2e7ea66",
   "metadata": {},
   "outputs": [
    {
     "name": "stdout",
     "output_type": "stream",
     "text": [
      "1 Srirag\n",
      "2 Shiva\n",
      "3 Hari\n",
      "4 Rohan\n",
      "5 Sujith\n"
     ]
    }
   ],
   "source": [
    "for k in dct.keys():\n",
    "    print(k,dct[k])"
   ]
  },
  {
   "cell_type": "code",
   "execution_count": 94,
   "id": "b4e09244",
   "metadata": {},
   "outputs": [
    {
     "name": "stdout",
     "output_type": "stream",
     "text": [
      "dict_items([(1, 'Srirag'), (2, 'Shiva'), (3, 'Hari'), (4, 'Rohan'), (5, 'Sujith')])\n"
     ]
    }
   ],
   "source": [
    "print(dct.items())"
   ]
  },
  {
   "cell_type": "code",
   "execution_count": 95,
   "id": "b1f44701",
   "metadata": {},
   "outputs": [
    {
     "name": "stdout",
     "output_type": "stream",
     "text": [
      "(1, 'Srirag')\n",
      "(2, 'Shiva')\n",
      "(3, 'Hari')\n",
      "(4, 'Rohan')\n",
      "(5, 'Sujith')\n"
     ]
    }
   ],
   "source": [
    "for i in dct.items():\n",
    "    print(i)"
   ]
  },
  {
   "cell_type": "code",
   "execution_count": 96,
   "id": "5285d727",
   "metadata": {},
   "outputs": [
    {
     "name": "stdout",
     "output_type": "stream",
     "text": [
      "1 Srirag\n",
      "2 Shiva\n",
      "3 Hari\n",
      "4 Rohan\n",
      "5 Sujith\n"
     ]
    }
   ],
   "source": [
    "for k,v in dct.items():\n",
    "    print(k,v)"
   ]
  },
  {
   "cell_type": "code",
   "execution_count": 98,
   "id": "bc9f6547",
   "metadata": {},
   "outputs": [
    {
     "name": "stdout",
     "output_type": "stream",
     "text": [
      "{1: 'Srirag', 2: 'Shiva', 3: 'Hari', 4: 'Rohan', 5: 'Sujith'}\n",
      "True\n",
      "False\n"
     ]
    }
   ],
   "source": [
    "#check if key is present\n",
    "print(dct)\n",
    "print(1 in dct)\n",
    "print(10 in dct)"
   ]
  },
  {
   "cell_type": "code",
   "execution_count": 101,
   "id": "82fe2a40",
   "metadata": {},
   "outputs": [
    {
     "name": "stdout",
     "output_type": "stream",
     "text": [
      "{1: 'A', 2: 'B', 3: 'c'}\n",
      "{1: 'a', 2: 'b', 3: 'c'}\n",
      "{1: 'a', 2: 'b', 3: 'c'}\n",
      "{1: 'a', 2: 'b', 3: 'c'}\n"
     ]
    }
   ],
   "source": [
    "#dct updating the dictionaries\n",
    "dct_1 = {1:'A',2:'B',3:'c'}\n",
    "dct_2 = {1:'a',2:'b',3:'c'}\n",
    "print(dct_1)\n",
    "print(dct_2)\n",
    "dct_1.update(dct_2)\n",
    "print(dct_1)\n",
    "print(dct_2)"
   ]
  },
  {
   "cell_type": "code",
   "execution_count": 107,
   "id": "99b125b0",
   "metadata": {},
   "outputs": [
    {
     "name": "stdout",
     "output_type": "stream",
     "text": [
      "{4: 'a', 5: 'b', 6: 'c'}\n",
      "{4: 'a', 5: 'b', 6: 'c', 1: 'A', 2: 'B', 3: 'c'}\n"
     ]
    }
   ],
   "source": [
    "#dct merging the dictionaries\n",
    "dct_1 = {1:'A',2:'B',3:'c'}\n",
    "dct_2 = {4:'a',5:'b',6:'c'}\n",
    "print(dct_2)\n",
    "for i in dct_1.keys():\n",
    "    dct_2[i] = dct_1[i]\n",
    "    \n",
    "    \n",
    "print(dct_2)"
   ]
  },
  {
   "cell_type": "markdown",
   "id": "5ba46f14",
   "metadata": {},
   "source": [
    "Dictionary methods\n",
    "dict.clear() - Remove all the elements from the dictionary\n",
    "\n",
    "dict.copy() - Returns a copy of the dictionary\n",
    "\n",
    "dict.get(key, default = “None”) - Returns the value of specified key\n",
    "\n",
    "dict.items() - Returns a list containing a tuple for each key value pair\n",
    "\n",
    "dict.keys() - Returns a list containing dictionary’s keys\n",
    "\n",
    "dict.update(dict2) - Updates dictionary with specified key-value pairs\n",
    "\n",
    "dict.values() - Returns a list of all the values of dictionary\n",
    "\n",
    "pop() - Remove the element with specified key\n",
    "\n",
    "popItem() - Removes the last inserted key-value pair\n",
    "\n",
    "dict.setdefault(key,default= “None”) - set the key to the default value if the key is not specified in the dictionary\n",
    "\n",
    "dict.has_key(key) - returns true if the dictionary contains the specified key.\n",
    "\n",
    "dict.get(key, default = “None”) - used to get the value specified for the passed key."
   ]
  },
  {
   "cell_type": "markdown",
   "id": "5b981a20",
   "metadata": {},
   "source": [
    "### Multi dimensional Dictionary"
   ]
  },
  {
   "cell_type": "markdown",
   "id": "46ba70e4",
   "metadata": {},
   "source": [
    "{Key1 : {key2:value}}"
   ]
  },
  {
   "cell_type": "code",
   "execution_count": 1,
   "id": "32add7a9",
   "metadata": {},
   "outputs": [],
   "source": [
    "mdct = {1:{'Name': 'Srirag','Phone':'123456789'}}"
   ]
  },
  {
   "cell_type": "code",
   "execution_count": 2,
   "id": "7ce37bb9",
   "metadata": {},
   "outputs": [
    {
     "name": "stdout",
     "output_type": "stream",
     "text": [
      "{1: {'Name': 'Srirag', 'Phone': '123456789'}}\n"
     ]
    }
   ],
   "source": [
    "print(mdct)"
   ]
  },
  {
   "cell_type": "code",
   "execution_count": 3,
   "id": "665bd704",
   "metadata": {},
   "outputs": [
    {
     "name": "stdout",
     "output_type": "stream",
     "text": [
      "1\n"
     ]
    }
   ],
   "source": [
    "print(len(mdct))"
   ]
  },
  {
   "cell_type": "code",
   "execution_count": 4,
   "id": "f6a255fe",
   "metadata": {},
   "outputs": [],
   "source": [
    "mdct = {1:{'Name': 'Srirag','Phone':'123456789'},2:{'Name': 'Sujith','Phone':'987654321'}}"
   ]
  },
  {
   "cell_type": "code",
   "execution_count": 5,
   "id": "63d0092e",
   "metadata": {},
   "outputs": [
    {
     "name": "stdout",
     "output_type": "stream",
     "text": [
      "{1: {'Name': 'Srirag', 'Phone': '123456789'}, 2: {'Name': 'Sujith', 'Phone': '987654321'}}\n"
     ]
    }
   ],
   "source": [
    "print(mdct)"
   ]
  },
  {
   "cell_type": "code",
   "execution_count": 8,
   "id": "d1f57897",
   "metadata": {},
   "outputs": [
    {
     "name": "stdout",
     "output_type": "stream",
     "text": [
      "{1: {'Name': 'Srirag', 'Phone': '123456789'}, 2: {'Name': 'Sujith', 'Phone': '987654321'}}\n",
      "--------------------------------------------------\n",
      "{'Name': 'Srirag', 'Phone': '123456789'}\n",
      "--------------------------------------------------\n",
      "Srirag\n"
     ]
    }
   ],
   "source": [
    "#Accessing the elements\n",
    "print(mdct)\n",
    "print('-'*50)\n",
    "print(mdct[1])\n",
    "print('-'*50)\n",
    "print(mdct[1]['Name'])"
   ]
  },
  {
   "cell_type": "code",
   "execution_count": 12,
   "id": "e61ee38d",
   "metadata": {},
   "outputs": [
    {
     "name": "stdout",
     "output_type": "stream",
     "text": [
      "{1: {'Name': 'Srirag', 'Phone': '123456789'}, 2: {'Name': 'Sujith', 'Phone': '987654321'}}\n",
      "{1: {'Name': 'Srirag', 'Phone': '123456789'}, 2: {'Name': 'Rohan', 'Phone': '987654321'}}\n"
     ]
    }
   ],
   "source": [
    "#Adding, Updating & Deleting\n",
    "print(mdct)\n",
    "mdct[2]['Name'] = 'Rohan'\n",
    "print(mdct)"
   ]
  },
  {
   "cell_type": "code",
   "execution_count": 15,
   "id": "9ec43973",
   "metadata": {},
   "outputs": [
    {
     "name": "stdout",
     "output_type": "stream",
     "text": [
      "{1: {'Name': 'Srirag', 'Phone': '123456789'}, 2: {'Name': 'Rohan', 'Phone': '987654321'}, 3: {'Name': 'Shiva', 'Phone': '123987456'}}\n"
     ]
    }
   ],
   "source": [
    "mdct[3]={'Name' : 'Shiva', 'Phone':'123987456'}\n",
    "print(mdct)"
   ]
  },
  {
   "cell_type": "code",
   "execution_count": 16,
   "id": "45100803",
   "metadata": {},
   "outputs": [
    {
     "name": "stdout",
     "output_type": "stream",
     "text": [
      "{1: {'Name': 'Srirag', 'Phone': '123456789'}, 2: {'Name': 'Rohan', 'Phone': '987654321'}}\n"
     ]
    }
   ],
   "source": [
    "del mdct[3]\n",
    "print(mdct)"
   ]
  },
  {
   "cell_type": "code",
   "execution_count": 19,
   "id": "ef8ec8ff",
   "metadata": {},
   "outputs": [
    {
     "name": "stdout",
     "output_type": "stream",
     "text": [
      "{1: {'Name': 'Srirag', 'Phone': '123456789'}, 2: {'Name': 'Rohan', 'Phone': '987654321'}}\n",
      "--------------------------------------------------\n",
      "1 Srirag\n",
      "2 Rohan\n"
     ]
    }
   ],
   "source": [
    "#Going through the data\n",
    "print(mdct)\n",
    "print('-'*50)\n",
    "for i in mdct.keys():\n",
    "    print(i,mdct[i]['Name'])"
   ]
  },
  {
   "cell_type": "code",
   "execution_count": 20,
   "id": "a3051978",
   "metadata": {},
   "outputs": [
    {
     "data": {
      "text/plain": [
       "True"
      ]
     },
     "execution_count": 20,
     "metadata": {},
     "output_type": "execute_result"
    }
   ],
   "source": [
    "1 in mdct"
   ]
  },
  {
   "cell_type": "code",
   "execution_count": 22,
   "id": "459fe4d7",
   "metadata": {},
   "outputs": [
    {
     "name": "stdout",
     "output_type": "stream",
     "text": [
      "{1: {'Name': 'Srirag', 'Phone': '123456789', 'Marks': {'hin': 45, 'eng': 49, 'tel': 43}}, 2: {'Name': 'Rohan', 'Phone': '987654321', 'Marks': {'hin': 40, 'eng': 42, 'tel': 47}}, 3: {'Name': 'Shiva', 'Phone': '123987456', 'Marks': {'hin': 41, 'eng': 39, 'tel': 48}}}\n"
     ]
    }
   ],
   "source": [
    "#Going a level depper with marks\n",
    "data = {1: {'Name': 'Srirag', 'Phone': '123456789','Marks':{'hin':45,'eng':49,'tel':43}}, \n",
    "        2: {'Name': 'Rohan', 'Phone': '987654321','Marks':{'hin':40,'eng':42,'tel':47}}, \n",
    "        3: {'Name': 'Shiva', 'Phone': '123987456','Marks':{'hin':41,'eng':39,'tel':48}}}\n",
    "\n",
    "print(data)"
   ]
  },
  {
   "cell_type": "code",
   "execution_count": 27,
   "id": "177035e9",
   "metadata": {},
   "outputs": [
    {
     "name": "stdout",
     "output_type": "stream",
     "text": [
      "1 Srirag 45\n",
      "2 Rohan 40\n",
      "3 Shiva 41\n"
     ]
    }
   ],
   "source": [
    "for i in data.keys():\n",
    "    print(i,data[i]['Name'],data[i]['Marks']['hin'])"
   ]
  },
  {
   "cell_type": "markdown",
   "id": "2135fced",
   "metadata": {},
   "source": [
    "Application of multidimensional Dictionary\n",
    "1. Configuration Settings: Representing configuration settings where each setting category has various parameters.\n",
    "\n",
    "2. Tree Structures: Representing hierarchical structures such as organizational charts.\n",
    "\n",
    "3. Nested Data: Storing data with a hierarchical relationship, where each level provides more specific information."
   ]
  },
  {
   "cell_type": "markdown",
   "id": "6b703c77",
   "metadata": {},
   "source": [
    "### Dictionary Comprehension"
   ]
  },
  {
   "cell_type": "code",
   "execution_count": 29,
   "id": "f8765f16",
   "metadata": {},
   "outputs": [
    {
     "name": "stdout",
     "output_type": "stream",
     "text": [
      "{1: 1, 2: 4, 3: 9, 4: 16, 5: 25}\n"
     ]
    }
   ],
   "source": [
    "ndct = {i:i**2 for i in range(1,6)}\n",
    "print(ndct)"
   ]
  },
  {
   "cell_type": "code",
   "execution_count": 31,
   "id": "e10d5b30",
   "metadata": {},
   "outputs": [
    {
     "name": "stdout",
     "output_type": "stream",
     "text": [
      "{2: 4, 4: 16, 6: 36, 8: 64, 10: 100}\n"
     ]
    }
   ],
   "source": [
    "#Dictionaries with conditions\n",
    "ndct2 = {i:i**2 for i in range(1,11) if i%2 == 0}\n",
    "print(ndct2)"
   ]
  },
  {
   "cell_type": "code",
   "execution_count": 8,
   "id": "06b338cf",
   "metadata": {},
   "outputs": [
    {
     "name": "stdout",
     "output_type": "stream",
     "text": [
      "{1: 'Apple', 2: 'Banana', 3: 'Grapes'}\n"
     ]
    }
   ],
   "source": [
    "#Dictionaries from lists\n",
    "lst = ['Apple','Banana','Grapes']\n",
    "ndct3 = {i:lst[i - 1] for i in range(1,len(lst)+1)}\n",
    "print(ndct3)"
   ]
  },
  {
   "cell_type": "code",
   "execution_count": 14,
   "id": "35d6be95",
   "metadata": {},
   "outputs": [
    {
     "name": "stdout",
     "output_type": "stream",
     "text": [
      "{'num_7': 7, 'num_14': 14, 'num_21': 21, 'num_28': 28, 'num_35': 35, 'num_42': 42, 'num_49': 49, 'num_56': 56, 'num_63': 63, 'num_70': 70, 'num_77': 77, 'num_84': 84, 'num_91': 91, 'num_98': 98}\n"
     ]
    }
   ],
   "source": [
    "#Special keys with strings\n",
    "ndct4 = {'num_'+str(i):i for i in range(1,101) if i%7==0}\n",
    "print(ndct4)"
   ]
  },
  {
   "cell_type": "code",
   "execution_count": 19,
   "id": "c1db6feb",
   "metadata": {},
   "outputs": [
    {
     "name": "stdout",
     "output_type": "stream",
     "text": [
      "{(0, 0): 1, (0, 1): 2, (0, 2): 3, (1, 0): 4, (1, 1): 5, (1, 2): 6, (2, 0): 7, (2, 1): 8, (2, 2): 9}\n"
     ]
    }
   ],
   "source": [
    "matrix = [[1,2,3],[4,5,6],[7,8,9]]\n",
    "final_dct = {(i,j) : matrix[i][j] for i in range(3) for j in range(3)}\n",
    "print(final_dct)"
   ]
  },
  {
   "cell_type": "code",
   "execution_count": 20,
   "id": "028b3ef1",
   "metadata": {},
   "outputs": [
    {
     "name": "stdout",
     "output_type": "stream",
     "text": [
      "1\n"
     ]
    }
   ],
   "source": [
    "print(final_dct[(0,0)])"
   ]
  },
  {
   "cell_type": "markdown",
   "id": "fc74e574",
   "metadata": {},
   "source": [
    "### Sets and Tuples"
   ]
  },
  {
   "cell_type": "markdown",
   "id": "e8260dab",
   "metadata": {},
   "source": [
    "these data structures are called supporting data structures, they help in supporting different operations on main data structures list and dictionaries.\n",
    "\n",
    "Sets -> { }\n",
    "\n",
    "i) sets are mutable we can add,remove,modify into it.\n",
    "\n",
    "ii) unique, no duplication.\n",
    "\n",
    "iii) unordered\n",
    "\n",
    "\n",
    "Tuples -> ()\n",
    "\n",
    "i) immutable, can't be change.\n",
    "\n",
    "ii) duplication is allowed.\n",
    "\n",
    "iii) ordered"
   ]
  },
  {
   "cell_type": "code",
   "execution_count": 1,
   "id": "171706dc",
   "metadata": {},
   "outputs": [
    {
     "name": "stdout",
     "output_type": "stream",
     "text": [
      "{1, 2, 3, 4, 5}\n"
     ]
    }
   ],
   "source": [
    "#creating a set\n",
    "my_set = {1,2,3,4,5}\n",
    "print(my_set)"
   ]
  },
  {
   "cell_type": "code",
   "execution_count": 2,
   "id": "82963cf0",
   "metadata": {},
   "outputs": [
    {
     "name": "stdout",
     "output_type": "stream",
     "text": [
      "<class 'set'>\n"
     ]
    }
   ],
   "source": [
    "print(type(my_set))"
   ]
  },
  {
   "cell_type": "code",
   "execution_count": 3,
   "id": "9af8b031",
   "metadata": {},
   "outputs": [
    {
     "name": "stdout",
     "output_type": "stream",
     "text": [
      "<class 'set'>\n"
     ]
    }
   ],
   "source": [
    "#adding \n",
    "my_set.add(6)\n",
    "print(set)"
   ]
  },
  {
   "cell_type": "code",
   "execution_count": 4,
   "id": "5d9665c1",
   "metadata": {},
   "outputs": [
    {
     "data": {
      "text/plain": [
       "1"
      ]
     },
     "execution_count": 4,
     "metadata": {},
     "output_type": "execute_result"
    }
   ],
   "source": [
    "#pop\n",
    "my_set.pop()"
   ]
  },
  {
   "cell_type": "code",
   "execution_count": 5,
   "id": "f65391ec",
   "metadata": {},
   "outputs": [
    {
     "name": "stdout",
     "output_type": "stream",
     "text": [
      "{2, 3, 4, 5, 6}\n"
     ]
    }
   ],
   "source": [
    "print(my_set)"
   ]
  },
  {
   "cell_type": "code",
   "execution_count": 8,
   "id": "b1f87c60",
   "metadata": {},
   "outputs": [
    {
     "name": "stdout",
     "output_type": "stream",
     "text": [
      "{2, 3, 4, 5, 6}\n",
      "{3, 4, 5, 6}\n"
     ]
    }
   ],
   "source": [
    "#remove\n",
    "print(my_set)\n",
    "my_set.discard(2)\n",
    "print(my_set)"
   ]
  },
  {
   "cell_type": "code",
   "execution_count": 9,
   "id": "3e59da4a",
   "metadata": {},
   "outputs": [
    {
     "name": "stdout",
     "output_type": "stream",
     "text": [
      "{3, 4, 5, 6}\n",
      "3\n",
      "4\n",
      "5\n",
      "6\n"
     ]
    }
   ],
   "source": [
    "#iterating\n",
    "print(my_set)\n",
    "for i in my_set:\n",
    "    print(i)"
   ]
  },
  {
   "cell_type": "code",
   "execution_count": 10,
   "id": "865f4de4",
   "metadata": {},
   "outputs": [
    {
     "name": "stdout",
     "output_type": "stream",
     "text": [
      "True\n"
     ]
    }
   ],
   "source": [
    "#checking the value\n",
    "print(3 in my_set)"
   ]
  },
  {
   "cell_type": "code",
   "execution_count": 17,
   "id": "0d457201",
   "metadata": {},
   "outputs": [
    {
     "name": "stdout",
     "output_type": "stream",
     "text": [
      "Union:  {1, 2, 3, 4, 5, 6}\n",
      "Intersection:  {4}\n",
      "Difference:  {5, 6}\n",
      "Symmetric Diff:  {1, 2, 3, 5, 6}\n"
     ]
    }
   ],
   "source": [
    "#set operations\n",
    "set_1 = {1,2,3,4}\n",
    "set_2 = {4,5,6}\n",
    "print('Union: ',set_1 | set_2)\n",
    "print('Intersection: ',set_1 & set_2)\n",
    "print('Difference: ',set_2 - set_1)\n",
    "print('Symmetric Diff: ',set_1 ^ set_2)"
   ]
  },
  {
   "cell_type": "code",
   "execution_count": 18,
   "id": "5fc85397",
   "metadata": {},
   "outputs": [
    {
     "name": "stdout",
     "output_type": "stream",
     "text": [
      "{3, 4, 5, 6}\n",
      "set()\n"
     ]
    }
   ],
   "source": [
    "#clearning\n",
    "print(my_set)\n",
    "my_set.clear()\n",
    "print(my_set)"
   ]
  },
  {
   "cell_type": "code",
   "execution_count": 31,
   "id": "92a72f5e",
   "metadata": {},
   "outputs": [
    {
     "name": "stdout",
     "output_type": "stream",
     "text": [
      "{1, 2, 3, 4, 5, 6}\n"
     ]
    }
   ],
   "source": [
    "#updating the set\n",
    "Set={1,2,3,4}\n",
    "Set.add(6)\n",
    "Set.update([4,5,6])\n",
    "print(Set)"
   ]
  },
  {
   "cell_type": "code",
   "execution_count": 19,
   "id": "0e07bcbb",
   "metadata": {},
   "outputs": [
    {
     "name": "stdout",
     "output_type": "stream",
     "text": [
      "(1, 2, 3, 4, 5)\n"
     ]
    }
   ],
   "source": [
    "#tuple initalization\n",
    "tpl = (1,2,3,4,5)\n",
    "print(tpl)"
   ]
  },
  {
   "cell_type": "code",
   "execution_count": 20,
   "id": "87b15cd8",
   "metadata": {},
   "outputs": [
    {
     "name": "stdout",
     "output_type": "stream",
     "text": [
      "1\n"
     ]
    }
   ],
   "source": [
    "#accessing \n",
    "tpl = (1,2,3,4,5)\n",
    "print(tpl[0])"
   ]
  },
  {
   "cell_type": "code",
   "execution_count": 21,
   "id": "fcae9801",
   "metadata": {},
   "outputs": [
    {
     "name": "stdout",
     "output_type": "stream",
     "text": [
      "(2, 3)\n"
     ]
    }
   ],
   "source": [
    "#slicing\n",
    "tpl = (1,2,3,4,5)\n",
    "print(tpl[1:3])"
   ]
  },
  {
   "cell_type": "code",
   "execution_count": 24,
   "id": "c1a65fa2",
   "metadata": {},
   "outputs": [
    {
     "name": "stdout",
     "output_type": "stream",
     "text": [
      "(1, 2, 3, 4, 5)\n"
     ]
    }
   ],
   "source": [
    "#concatenate\n",
    "tp1 = (1,2,3,4,5)\n",
    "tp2 = (6,7,8)\n",
    "tp1 = tp1 +tp2\n",
    "print(tpl)"
   ]
  },
  {
   "cell_type": "code",
   "execution_count": 25,
   "id": "f4877a15",
   "metadata": {},
   "outputs": [
    {
     "name": "stdout",
     "output_type": "stream",
     "text": [
      "(1, 2, 3, 4, 5)\n",
      "1\n",
      "2\n",
      "3\n",
      "4\n",
      "5\n"
     ]
    }
   ],
   "source": [
    "#iterating\n",
    "print(tpl)\n",
    "for i in tpl:\n",
    "    print(i)"
   ]
  },
  {
   "cell_type": "code",
   "execution_count": 27,
   "id": "6f233683",
   "metadata": {},
   "outputs": [
    {
     "name": "stdout",
     "output_type": "stream",
     "text": [
      "True\n",
      "False\n"
     ]
    }
   ],
   "source": [
    "#checking the element\n",
    "print(2 in  tpl)\n",
    "print(10 in tpl)"
   ]
  },
  {
   "cell_type": "code",
   "execution_count": 28,
   "id": "91e0f4eb",
   "metadata": {},
   "outputs": [
    {
     "name": "stdout",
     "output_type": "stream",
     "text": [
      "(1, 2, 3, 4, 5)\n",
      "1\n"
     ]
    }
   ],
   "source": [
    "#checking the count\n",
    "print(tpl)\n",
    "print(tpl.count(4))"
   ]
  },
  {
   "cell_type": "code",
   "execution_count": 29,
   "id": "7fe0f851",
   "metadata": {},
   "outputs": [
    {
     "name": "stdout",
     "output_type": "stream",
     "text": [
      "(1, 2, 3, 4, 5)\n",
      "3\n"
     ]
    }
   ],
   "source": [
    "#indexing\n",
    "print(tpl)\n",
    "print(tpl.index(4))"
   ]
  },
  {
   "cell_type": "code",
   "execution_count": 30,
   "id": "96319f53",
   "metadata": {},
   "outputs": [
    {
     "name": "stdout",
     "output_type": "stream",
     "text": [
      "(1, 2, 3, 4, 5, 1, 2, 3, 4, 5, 1, 2, 3, 4, 5)\n"
     ]
    }
   ],
   "source": [
    "#Multiplying the tuple\n",
    "print(tpl*3)"
   ]
  },
  {
   "cell_type": "markdown",
   "id": "b6a0f408",
   "metadata": {},
   "source": [
    "Properties of Tuples:\n",
    "\n",
    "Tuples are immutable which means once a tuple is created, you cannot modify its elements. You can't add, remove, or change elements in a tuple.\n",
    "\n",
    "Tuples are ordered, meaning the position of an element in a tuple is preserved.\n",
    "\n",
    "Tuples can contain elements of different data types. You can have integers, strings, floats, and other data types within the same tuple."
   ]
  },
  {
   "cell_type": "markdown",
   "id": "1effb122",
   "metadata": {},
   "source": [
    "### How to decide the Data structures for the problem"
   ]
  },
  {
   "cell_type": "markdown",
   "id": "1050a2ea",
   "metadata": {},
   "source": [
    "Deciding on the right data structure for a problem is a crucial step in designing an efficient algorithm. The choice of data structure can significantly impact the performance and scalability of your solution."
   ]
  },
  {
   "cell_type": "markdown",
   "id": "3d8105ee",
   "metadata": {},
   "source": [
    "Understanding the Problem\n",
    "\n",
    "Before choosing a data structure, it's essential to thoroughly understand the problem requirements and constraints. Consider the following aspects:\n",
    "\n",
    "Access Patterns:\n",
    "\n",
    "Identify how data will be accessed and manipulated. Does the problem involve frequent insertions, deletions, or lookups?\n",
    "\n",
    "Space Complexity:\n",
    "\n",
    "Understand the memory constraints of the problem. Some data structures may consume more memory than others.\n",
    "\n",
    "Time Complexity:\n",
    "\n",
    "Evaluate the time complexity of various operations. Certain data structures excel in specific operations but might be inefficient in others.\n",
    "\n",
    "Ordered vs. Unordered Data:\n",
    "\n",
    "Determine whether the order of the data matters or if it can be arbitrary."
   ]
  }
 ],
 "metadata": {
  "kernelspec": {
   "display_name": "Python 3 (ipykernel)",
   "language": "python",
   "name": "python3"
  },
  "language_info": {
   "codemirror_mode": {
    "name": "ipython",
    "version": 3
   },
   "file_extension": ".py",
   "mimetype": "text/x-python",
   "name": "python",
   "nbconvert_exporter": "python",
   "pygments_lexer": "ipython3",
   "version": "3.10.9"
  }
 },
 "nbformat": 4,
 "nbformat_minor": 5
}
