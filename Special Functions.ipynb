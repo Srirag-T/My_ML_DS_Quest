{
 "cells": [
  {
   "cell_type": "markdown",
   "id": "9ce43490",
   "metadata": {},
   "source": [
    "### Zip, Filter, Lambda and Map"
   ]
  },
  {
   "cell_type": "code",
   "execution_count": 4,
   "id": "b071725b",
   "metadata": {},
   "outputs": [
    {
     "name": "stdout",
     "output_type": "stream",
     "text": [
      "[('Srirag', 23), ('Sujith', 23), ('Shiva', 24)]\n"
     ]
    }
   ],
   "source": [
    "#zip\n",
    "lst1=['Srirag','Sujith','Shiva']\n",
    "lst2=[23,23,24]\n",
    "print(list(zip(lst1,lst2)))"
   ]
  },
  {
   "cell_type": "code",
   "execution_count": 5,
   "id": "0d27decb",
   "metadata": {},
   "outputs": [
    {
     "name": "stdout",
     "output_type": "stream",
     "text": [
      "[[[1, 2, 3]], [[4, 5, 6]], [[7, 8, 9]]]\n"
     ]
    }
   ],
   "source": [
    "matrix = [[1,2,3],[4,5,6],[7,8,9]]\n",
    "print([list(row) for row in zip(matrix)])"
   ]
  },
  {
   "cell_type": "code",
   "execution_count": 6,
   "id": "045a30a5",
   "metadata": {},
   "outputs": [
    {
     "name": "stdout",
     "output_type": "stream",
     "text": [
      "[[1, 4, 7], [2, 5, 8], [3, 6, 9]]\n"
     ]
    }
   ],
   "source": [
    "print([list(row) for row in zip(*matrix)])"
   ]
  },
  {
   "cell_type": "code",
   "execution_count": 10,
   "id": "d843af15",
   "metadata": {},
   "outputs": [
    {
     "name": "stdout",
     "output_type": "stream",
     "text": [
      "[[1, 2, 3], [4, 5, 6], [7, 8, 9]]\n"
     ]
    }
   ],
   "source": [
    "print([list(row) for row in zip(*[list(row) for row in zip(*matrix)])])"
   ]
  },
  {
   "cell_type": "code",
   "execution_count": 14,
   "id": "b2abacda",
   "metadata": {},
   "outputs": [
    {
     "name": "stdout",
     "output_type": "stream",
     "text": [
      "44\n"
     ]
    }
   ],
   "source": [
    "#dot-product with zip\n",
    "lst_1 = [2,4,6]\n",
    "lst_2 = [1,3,5]\n",
    "\n",
    "print(sum([i*j for i,j in zip(lst_1,lst_2)]))"
   ]
  },
  {
   "cell_type": "code",
   "execution_count": 15,
   "id": "c0a50059",
   "metadata": {},
   "outputs": [
    {
     "name": "stdout",
     "output_type": "stream",
     "text": [
      "[2, 4, 6, 8]\n"
     ]
    }
   ],
   "source": [
    "#filter\n",
    "lst = [1,2,3,4,5,6,7,8,9]\n",
    "def is_even(n):\n",
    "    return n%2==0\n",
    "print(list(filter(is_even,lst)))"
   ]
  },
  {
   "cell_type": "code",
   "execution_count": 16,
   "id": "b5f29034",
   "metadata": {},
   "outputs": [
    {
     "name": "stdout",
     "output_type": "stream",
     "text": [
      "50\n"
     ]
    }
   ],
   "source": [
    "#lambda\n",
    "add_num = lambda x,y : x*y\n",
    "print(add_num(5,10))"
   ]
  },
  {
   "cell_type": "code",
   "execution_count": 18,
   "id": "5bbe409e",
   "metadata": {},
   "outputs": [
    {
     "name": "stdout",
     "output_type": "stream",
     "text": [
      "[2, 4, 6, 8]\n"
     ]
    }
   ],
   "source": [
    "num = [1,2,3,4,5,6,7,8,9]\n",
    "print(list(filter(lambda x: x%2==0,num)))"
   ]
  },
  {
   "cell_type": "code",
   "execution_count": 21,
   "id": "40b7e676",
   "metadata": {},
   "outputs": [
    {
     "name": "stdout",
     "output_type": "stream",
     "text": [
      "2\n"
     ]
    }
   ],
   "source": [
    "Max = lambda a, b : a if(a > b) else b\n",
    "print(Max(1, 2))"
   ]
  },
  {
   "cell_type": "code",
   "execution_count": 19,
   "id": "63221249",
   "metadata": {},
   "outputs": [
    {
     "name": "stdout",
     "output_type": "stream",
     "text": [
      "[1, 4, 9, 16, 25, 36, 49, 64, 81]\n"
     ]
    }
   ],
   "source": [
    "#map\n",
    "num=[1,2,3,4,5,6,7,8,9]\n",
    "def sqr(x):\n",
    "    return x**2\n",
    "print(list(map(sqr,num)))"
   ]
  },
  {
   "cell_type": "code",
   "execution_count": 20,
   "id": "b8754878",
   "metadata": {},
   "outputs": [
    {
     "name": "stdout",
     "output_type": "stream",
     "text": [
      "[6, 6, 5]\n"
     ]
    }
   ],
   "source": [
    "names = ['Srirag','Sujith','Shiva']\n",
    "print(list(map(lambda x:len(x),names)))"
   ]
  },
  {
   "cell_type": "markdown",
   "id": "efff83f5",
   "metadata": {},
   "source": [
    "### ASCII Code"
   ]
  },
  {
   "cell_type": "code",
   "execution_count": 28,
   "id": "4f8f68fe",
   "metadata": {},
   "outputs": [
    {
     "name": "stdout",
     "output_type": "stream",
     "text": [
      "A\n",
      "65\n",
      "90\n",
      "97\n",
      "48\n",
      "32\n"
     ]
    }
   ],
   "source": [
    "#ord()\n",
    "print('A')\n",
    "print(ord('A'))\n",
    "print(ord('Z'))\n",
    "print(ord('a'))\n",
    "print(ord('0'))\n",
    "print(ord(' '))"
   ]
  },
  {
   "cell_type": "code",
   "execution_count": 32,
   "id": "89699153",
   "metadata": {},
   "outputs": [
    {
     "name": "stdout",
     "output_type": "stream",
     "text": [
      "0\n",
      "A\n",
      "Z\n",
      "a\n"
     ]
    }
   ],
   "source": [
    "#chr()\n",
    "print(chr(48))\n",
    "print(chr(65))\n",
    "print(chr(90))\n",
    "print(chr(97))"
   ]
  },
  {
   "cell_type": "code",
   "execution_count": 34,
   "id": "52db5895",
   "metadata": {},
   "outputs": [
    {
     "name": "stdout",
     "output_type": "stream",
     "text": [
      "33 !\n",
      "34 \"\n",
      "35 #\n",
      "36 $\n",
      "37 %\n",
      "38 &\n",
      "39 '\n",
      "40 (\n",
      "41 )\n",
      "42 *\n",
      "43 +\n",
      "44 ,\n",
      "45 -\n",
      "46 .\n",
      "47 /\n",
      "48 0\n",
      "49 1\n",
      "50 2\n",
      "51 3\n",
      "52 4\n",
      "53 5\n",
      "54 6\n",
      "55 7\n",
      "56 8\n",
      "57 9\n",
      "58 :\n",
      "59 ;\n",
      "60 <\n",
      "61 =\n",
      "62 >\n",
      "63 ?\n",
      "64 @\n",
      "65 A\n",
      "66 B\n",
      "67 C\n",
      "68 D\n",
      "69 E\n",
      "70 F\n",
      "71 G\n",
      "72 H\n",
      "73 I\n",
      "74 J\n",
      "75 K\n",
      "76 L\n",
      "77 M\n",
      "78 N\n",
      "79 O\n",
      "80 P\n",
      "81 Q\n",
      "82 R\n",
      "83 S\n",
      "84 T\n",
      "85 U\n",
      "86 V\n",
      "87 W\n",
      "88 X\n",
      "89 Y\n",
      "90 Z\n",
      "91 [\n",
      "92 \\\n",
      "93 ]\n",
      "94 ^\n",
      "95 _\n",
      "96 `\n",
      "97 a\n",
      "98 b\n",
      "99 c\n",
      "100 d\n",
      "101 e\n",
      "102 f\n",
      "103 g\n",
      "104 h\n",
      "105 i\n",
      "106 j\n",
      "107 k\n",
      "108 l\n",
      "109 m\n",
      "110 n\n",
      "111 o\n",
      "112 p\n",
      "113 q\n",
      "114 r\n",
      "115 s\n",
      "116 t\n",
      "117 u\n",
      "118 v\n",
      "119 w\n",
      "120 x\n",
      "121 y\n",
      "122 z\n",
      "123 {\n",
      "124 |\n",
      "125 }\n",
      "126 ~\n"
     ]
    }
   ],
   "source": [
    "for i in range(33,127):\n",
    "    print(i,chr(i))"
   ]
  },
  {
   "cell_type": "code",
   "execution_count": null,
   "id": "ca91ded3",
   "metadata": {},
   "outputs": [],
   "source": []
  }
 ],
 "metadata": {
  "kernelspec": {
   "display_name": "Python 3 (ipykernel)",
   "language": "python",
   "name": "python3"
  },
  "language_info": {
   "codemirror_mode": {
    "name": "ipython",
    "version": 3
   },
   "file_extension": ".py",
   "mimetype": "text/x-python",
   "name": "python",
   "nbconvert_exporter": "python",
   "pygments_lexer": "ipython3",
   "version": "3.11.5"
  }
 },
 "nbformat": 4,
 "nbformat_minor": 5
}
