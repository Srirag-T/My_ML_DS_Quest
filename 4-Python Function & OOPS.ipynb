{
 "cells": [
  {
   "cell_type": "markdown",
   "id": "6168b43c",
   "metadata": {},
   "source": [
    "### Functions"
   ]
  },
  {
   "cell_type": "markdown",
   "id": "073b370e",
   "metadata": {},
   "source": [
    "A function is a block of organized, reusable code that performs a specific task. In python we use the 'def' keyword to define a function followed by a function name. We can pass zero or more parameters within a function."
   ]
  },
  {
   "cell_type": "markdown",
   "id": "03563c8b",
   "metadata": {},
   "source": [
    "Properties of a function\n",
    "1. Modularity\n",
    "Functions allow you to break down a program into smaller, manageable pieces. Each function can perform a specific task, making the code more modular and easier to understand.\n",
    "\n",
    "2. Reusability\n",
    "Functions allows a block of code to write at one place, so that instead of writing the same code again and again for different inputs, we can do the function calls to reuse code contained in it over and over again.\n",
    "\n",
    "3. Encapsulation\n",
    "Functions encapsulate a specific piece of functionality. This means that the internal details of a function are hidden from the rest of the program, but we can call the function anywhere and use its functionalities without how it does that.\n",
    "\n",
    "4. Recursion\n",
    "Functions in Python can be recursive, meaning a function can call itself. This is a powerful technique for solving problems that can be broken down into smaller, similar sub-problems."
   ]
  },
  {
   "cell_type": "markdown",
   "id": "fe9a05b5",
   "metadata": {},
   "source": [
    "Types of functions\n",
    "There are basically two types of functions in python:\n",
    "\n",
    "1. Built-in function are functions that are already defined in Python and are available for use without the need for additional declarations.\n",
    "2. User defined function are functions created by the programmer to perform specific tasks. These functions are defined using the def keyword and can include parameters, a docstring, and a code block."
   ]
  },
  {
   "cell_type": "code",
   "execution_count": 1,
   "id": "a8c3b863",
   "metadata": {},
   "outputs": [
    {
     "name": "stdout",
     "output_type": "stream",
     "text": [
      "Hello\n"
     ]
    }
   ],
   "source": [
    "def greet():\n",
    "    print('Hello')\n",
    "\n",
    "greet()"
   ]
  },
  {
   "cell_type": "code",
   "execution_count": 2,
   "id": "860b5de5",
   "metadata": {},
   "outputs": [
    {
     "name": "stdout",
     "output_type": "stream",
     "text": [
      "10 5\n"
     ]
    }
   ],
   "source": [
    "#Defining the scope of the variables\n",
    "g_var =10\n",
    "def scope():\n",
    "    l_var = 5\n",
    "    print(g_var,l_var)\n",
    "scope()\n",
    "#print(g_var,l_var) #error because l_var is not defined outside the function."
   ]
  },
  {
   "cell_type": "code",
   "execution_count": 3,
   "id": "194d032b",
   "metadata": {},
   "outputs": [
    {
     "name": "stdout",
     "output_type": "stream",
     "text": [
      "Hello Srirag!\n"
     ]
    }
   ],
   "source": [
    "#Passing the parameters\n",
    "def greet2(n):\n",
    "    print('Hello',n)\n",
    "\n",
    "greet2('Srirag!')"
   ]
  },
  {
   "cell_type": "code",
   "execution_count": 4,
   "id": "bed16980",
   "metadata": {},
   "outputs": [
    {
     "name": "stdout",
     "output_type": "stream",
     "text": [
      "Hello Srirag!\n",
      "Hello NA\n"
     ]
    }
   ],
   "source": [
    "#without passing any argument and default value of the function\n",
    "def greet3(n='NA'):\n",
    "    print('Hello',n)\n",
    "\n",
    "greet3(n='Srirag!')\n",
    "greet3()"
   ]
  },
  {
   "cell_type": "code",
   "execution_count": 5,
   "id": "daf7ba9b",
   "metadata": {},
   "outputs": [
    {
     "name": "stdout",
     "output_type": "stream",
     "text": [
      "5 10 15\n",
      "5 10 15\n",
      "0 0 0\n",
      "5 0 5\n"
     ]
    }
   ],
   "source": [
    "#Passing the parameters with print\n",
    "def subm(a=0,b=0):\n",
    "    print(a,b,a+b)\n",
    "subm(5,10)\n",
    "subm(a=5,b=10)\n",
    "subm()\n",
    "subm(a=5)"
   ]
  },
  {
   "cell_type": "code",
   "execution_count": 6,
   "id": "99d54dbd",
   "metadata": {},
   "outputs": [
    {
     "name": "stdout",
     "output_type": "stream",
     "text": [
      "15\n"
     ]
    }
   ],
   "source": [
    "#Return\n",
    "def subm2(a=0,b=0):\n",
    "    return a+b\n",
    "print(subm2(5,10))"
   ]
  },
  {
   "cell_type": "code",
   "execution_count": 7,
   "id": "8d3ef7aa",
   "metadata": {},
   "outputs": [
    {
     "name": "stdout",
     "output_type": "stream",
     "text": [
      "(15, -5, 50)\n"
     ]
    }
   ],
   "source": [
    "#Multi-Return\n",
    "def subm3(a=0,b=0):\n",
    "    return a+b, a-b, a*b\n",
    "print(subm3(5,10)) #upacked so tuple we are getting"
   ]
  },
  {
   "cell_type": "code",
   "execution_count": 8,
   "id": "7535d354",
   "metadata": {},
   "outputs": [
    {
     "name": "stdout",
     "output_type": "stream",
     "text": [
      "[2, 12, 36, 80, 150, 252]\n"
     ]
    }
   ],
   "source": [
    "#calling different functions\n",
    "def sq(lst):\n",
    "    return [i**2 for i in lst]\n",
    "def cub(lst):\n",
    "    return [i**3 for i in lst]\n",
    "def combine(lst):\n",
    "    lst_1 = sq(lst)\n",
    "    lst_2 = cub(lst)\n",
    "\n",
    "    return [lst_1[i]+lst_2[i] for i in range(len(lst_1))]\n",
    "\n",
    "print(combine([1,2,3,4,5,6]))"
   ]
  },
  {
   "cell_type": "markdown",
   "id": "fb2953c5",
   "metadata": {},
   "source": [
    "### Modules"
   ]
  },
  {
   "cell_type": "markdown",
   "id": "4ac87479",
   "metadata": {},
   "source": [
    "A Module is a file in python containing Python definitions and statements. These files help organize code into logical, reusable units. Modules make it easier to manage and scale Python projects by breaking them down into smaller components."
   ]
  },
  {
   "cell_type": "code",
   "execution_count": 9,
   "id": "63a9bc90",
   "metadata": {},
   "outputs": [
    {
     "name": "stdout",
     "output_type": "stream",
     "text": [
      "Hello\n",
      "None\n",
      "(15, -5, 50)\n"
     ]
    }
   ],
   "source": [
    "import SupportModule as sm #from SupportModule import greet (While use python files we can call like this)\n",
    "print(sm.greet())\n",
    "print(sm.subm3(5,10))"
   ]
  },
  {
   "cell_type": "markdown",
   "id": "de89fbdd",
   "metadata": {},
   "source": [
    "### Important Inbuilt Libraries"
   ]
  },
  {
   "cell_type": "code",
   "execution_count": 10,
   "id": "8dbd33ea",
   "metadata": {},
   "outputs": [
    {
     "name": "stdout",
     "output_type": "stream",
     "text": [
      "11\n",
      "10\n",
      "10\n"
     ]
    }
   ],
   "source": [
    "#Math\n",
    "import math\n",
    "\n",
    "x=10.8\n",
    "print(math.ceil(x))\n",
    "print(math.floor(x))\n",
    "print(math.trunc(x))\n"
   ]
  },
  {
   "cell_type": "code",
   "execution_count": 11,
   "id": "e43ea24d",
   "metadata": {},
   "outputs": [
    {
     "name": "stdout",
     "output_type": "stream",
     "text": [
      "148.4131591025766\n",
      "0.6989700043360189\n"
     ]
    }
   ],
   "source": [
    "x = 5\n",
    "print(math.exp(x))\n",
    "print(math.log10(x))"
   ]
  },
  {
   "cell_type": "code",
   "execution_count": 12,
   "id": "f057f4f7",
   "metadata": {},
   "outputs": [
    {
     "name": "stdout",
     "output_type": "stream",
     "text": [
      "0.8939966636005579\n",
      "-0.4480736161291701\n",
      "-1.995200412208242\n"
     ]
    }
   ],
   "source": [
    "x = 90\n",
    "print(math.sin(x))\n",
    "print(math.cos(x))\n",
    "print(math.tan(x))"
   ]
  },
  {
   "cell_type": "code",
   "execution_count": 13,
   "id": "393788d4",
   "metadata": {},
   "outputs": [
    {
     "name": "stdout",
     "output_type": "stream",
     "text": [
      "3.141592653589793\n",
      "2.718281828459045\n"
     ]
    }
   ],
   "source": [
    "print(math.pi)\n",
    "print(math.e)"
   ]
  },
  {
   "cell_type": "code",
   "execution_count": 14,
   "id": "d67177e7",
   "metadata": {},
   "outputs": [
    {
     "name": "stdout",
     "output_type": "stream",
     "text": [
      "10 3628800\n"
     ]
    }
   ],
   "source": [
    "print(10,math.factorial(10))"
   ]
  },
  {
   "cell_type": "code",
   "execution_count": 15,
   "id": "e5524e57",
   "metadata": {},
   "outputs": [
    {
     "name": "stdout",
     "output_type": "stream",
     "text": [
      "0.42899394372379607\n",
      "3\n",
      "6\n",
      "[3, 7]\n",
      "2.2114680519701446\n"
     ]
    }
   ],
   "source": [
    "#Random\n",
    "import random\n",
    "\n",
    "print(random.random())\n",
    "print(random.randint(1,11))\n",
    "print(random.choice([1,2,3,4,5,6,7]))\n",
    "print(random.sample([1,2,3,4,5,6,7],2))\n",
    "print(random.uniform(1.0,4.5))"
   ]
  },
  {
   "cell_type": "code",
   "execution_count": 16,
   "id": "cca3b15b",
   "metadata": {},
   "outputs": [],
   "source": [
    "random.seed(40)"
   ]
  },
  {
   "cell_type": "code",
   "execution_count": 22,
   "id": "29c0de45",
   "metadata": {},
   "outputs": [
    {
     "name": "stdout",
     "output_type": "stream",
     "text": [
      "2024-02-22 22:25:48.349080\n",
      "2023-10-28 10:30:09\n",
      "22/02/24 22:25:48\n"
     ]
    }
   ],
   "source": [
    "#datatime\n",
    "import datetime\n",
    "print(datetime.datetime.now())\n",
    "print(datetime.datetime(2023,10,28,10,30,9))\n",
    "print(datetime.datetime.now().strftime(\"%d/%m/%y %H:%M:%S\"))"
   ]
  },
  {
   "cell_type": "code",
   "execution_count": 25,
   "id": "ad9a835d",
   "metadata": {},
   "outputs": [
    {
     "name": "stdout",
     "output_type": "stream",
     "text": [
      "Counter({2: 4, 5: 2, 6: 2, 9: 2, 1: 1, 3: 1, 4: 1, 7: 1, 8: 1})\n"
     ]
    }
   ],
   "source": [
    "#collections\n",
    "from collections import Counter\n",
    "new_lst = [1,2,3,4,5,6,7,8,9,9,6,5,2,2,2]\n",
    "print(Counter(new_lst))"
   ]
  },
  {
   "cell_type": "code",
   "execution_count": 27,
   "id": "da700e9f",
   "metadata": {},
   "outputs": [
    {
     "name": "stdout",
     "output_type": "stream",
     "text": [
      "defaultdict(<class 'int'>, {'a': 2})\n"
     ]
    }
   ],
   "source": [
    "from collections import defaultdict\n",
    "d = defaultdict(int)\n",
    "d['a'] +=2\n",
    "print(d)"
   ]
  },
  {
   "cell_type": "code",
   "execution_count": 30,
   "id": "b659f093",
   "metadata": {},
   "outputs": [
    {
     "name": "stdout",
     "output_type": "stream",
     "text": [
      "OrderedDict([('one', 1), ('two', 1)])\n"
     ]
    }
   ],
   "source": [
    "from collections import OrderedDict\n",
    "d = OrderedDict()\n",
    "d['one'] = 1\n",
    "d['two'] = 1\n",
    "print(d)"
   ]
  },
  {
   "cell_type": "code",
   "execution_count": 35,
   "id": "c4213051",
   "metadata": {},
   "outputs": [
    {
     "name": "stdout",
     "output_type": "stream",
     "text": [
      "abcdefghijklmnopqrstuvwxyzABCDEFGHIJKLMNOPQRSTUVWXYZ\n",
      "abcdefghijklmnopqrstuvwxyz\n",
      "ABCDEFGHIJKLMNOPQRSTUVWXYZ\n",
      "0123456789\n",
      "0123456789abcdefABCDEF\n",
      "01234567\n",
      "!\"#$%&'()*+,-./:;<=>?@[\\]^_`{|}~\n"
     ]
    }
   ],
   "source": [
    "#Strings\n",
    "import string\n",
    "print(string.ascii_letters)\n",
    "print(string.ascii_lowercase)\n",
    "print(string.ascii_uppercase)\n",
    "print(string.digits)\n",
    "print(string.hexdigits)\n",
    "print(string.octdigits)\n",
    "print(string.punctuation)"
   ]
  },
  {
   "cell_type": "markdown",
   "id": "0ed48a06",
   "metadata": {},
   "source": [
    "### Understanding Classes and Objects"
   ]
  },
  {
   "cell_type": "markdown",
   "id": "6072811a",
   "metadata": {},
   "source": [
    "class is going to a mainframe through which we can create different objects."
   ]
  },
  {
   "cell_type": "markdown",
   "id": "dab3c776",
   "metadata": {},
   "source": [
    "Functions inside a class is called methods."
   ]
  },
  {
   "cell_type": "code",
   "execution_count": 6,
   "id": "1196c3c1",
   "metadata": {},
   "outputs": [
    {
     "name": "stdout",
     "output_type": "stream",
     "text": [
      "Srirag\n",
      "22\n"
     ]
    }
   ],
   "source": [
    "class person:\n",
    "    name = 'Srirag'\n",
    "    age = 22\n",
    "\n",
    "p1 = person()\n",
    "print(p1.name)\n",
    "print(p1.age)"
   ]
  },
  {
   "cell_type": "code",
   "execution_count": 7,
   "id": "25eceec2",
   "metadata": {},
   "outputs": [
    {
     "name": "stdout",
     "output_type": "stream",
     "text": [
      "Rohan\n",
      "24\n"
     ]
    }
   ],
   "source": [
    "p1.name = 'Rohan'\n",
    "p1.age = 24\n",
    "print(p1.name)\n",
    "print(p1.age)"
   ]
  },
  {
   "cell_type": "code",
   "execution_count": 9,
   "id": "974582b7",
   "metadata": {},
   "outputs": [
    {
     "name": "stdout",
     "output_type": "stream",
     "text": [
      "Srirag\n",
      "22\n"
     ]
    }
   ],
   "source": [
    "p2 = person()\n",
    "print(p2.name)\n",
    "print(p2.age)"
   ]
  },
  {
   "cell_type": "code",
   "execution_count": 33,
   "id": "2fe12c9d",
   "metadata": {},
   "outputs": [
    {
     "name": "stdout",
     "output_type": "stream",
     "text": [
      "Hello\n",
      "Hi\n"
     ]
    }
   ],
   "source": [
    "class mathematics:\n",
    "    name = 'Srirag'\n",
    "    \n",
    "    def math_greet(self):\n",
    "        print('Hello')\n",
    "        return 'Hi'\n",
    "    def factorial(self,n):\n",
    "        s = 1\n",
    "        for i in range(1,n+1):\n",
    "            s*=i\n",
    "        return s\n",
    "    def lst_mul(self,m_lst):\n",
    "        s = 1\n",
    "        for  i in m_lst:\n",
    "            s*=i\n",
    "        return s\n",
    "    def lst_dot(self,m_lst1,m_lst2):\n",
    "        return [m_lst1[i] * m_lst2[i] for i in range(len(m_lst1))]\n",
    "\n",
    "math = mathematics()\n",
    "print(math.math_greet())"
   ]
  },
  {
   "cell_type": "code",
   "execution_count": 34,
   "id": "1a357464",
   "metadata": {},
   "outputs": [
    {
     "name": "stdout",
     "output_type": "stream",
     "text": [
      "120\n"
     ]
    }
   ],
   "source": [
    "print(math.factorial(5))"
   ]
  },
  {
   "cell_type": "code",
   "execution_count": 31,
   "id": "f7a2bb7a",
   "metadata": {},
   "outputs": [
    {
     "name": "stdout",
     "output_type": "stream",
     "text": [
      "60\n"
     ]
    }
   ],
   "source": [
    "print(math.lst_mul([3,4,5]))"
   ]
  },
  {
   "cell_type": "code",
   "execution_count": 30,
   "id": "a13c4e25",
   "metadata": {},
   "outputs": [
    {
     "name": "stdout",
     "output_type": "stream",
     "text": [
      "[3, 8, 15]\n"
     ]
    }
   ],
   "source": [
    "print(math.lst_dot([3,4,5],[1,2,3]))"
   ]
  },
  {
   "cell_type": "markdown",
   "id": "1d95d380",
   "metadata": {},
   "source": [
    "### Methods"
   ]
  },
  {
   "cell_type": "markdown",
   "id": "659b46e5",
   "metadata": {},
   "source": [
    "Methods in Python Classes\n",
    "\n",
    "Methods in Python classes are like little helpers that can perform specific tasks. They are functions tied to your data, bringing order and functionality.\n",
    "\n",
    "The self Parameter\n",
    "\n",
    "The self parameter is a reference to the current instance of the class, and is used to access variables that belongs to the class.\n",
    "It does not have to be named self , you can call it whatever you like, but it has to be the first parameter of any function in the class.\n",
    "\n",
    "Parameters\n",
    "\n",
    "Python classes have methods, which are functions that are associated with the class. These methods can take parameters, allowing you to customize their behavior based on the specific instance of the class.\n",
    "\n",
    "Default Parameters\n",
    "\n",
    "You can also assign default values to parameters in methods or constructors. If a value for a parameter is not provided during the method call or object creation, the default value will be used."
   ]
  },
  {
   "cell_type": "code",
   "execution_count": 59,
   "id": "5394c642",
   "metadata": {},
   "outputs": [
    {
     "name": "stdout",
     "output_type": "stream",
     "text": [
      "None\n",
      "Srirag\n",
      "Run!\n"
     ]
    }
   ],
   "source": [
    "class person2:\n",
    "    def _init_(self,name,age):\n",
    "        self.name = name\n",
    "        self.age = age\n",
    "        self.heath = 100\n",
    "        self.alive = True\n",
    "\n",
    "    def run(self):\n",
    "        print(self.name)\n",
    "        print('Run!')\n",
    "\n",
    "p1 = person2() #O/P: Srirag \n",
    "print(p1._init_('Srirag',22))\n",
    "p1.run()"
   ]
  },
  {
   "cell_type": "code",
   "execution_count": 53,
   "id": "67584602",
   "metadata": {},
   "outputs": [
    {
     "name": "stdout",
     "output_type": "stream",
     "text": [
      "Welcome to the game\n",
      "Current health of Rahul is 100\n",
      "Name: Rahul\n",
      "Age: 25\n",
      "Health: 0\n",
      "Alive: False\n"
     ]
    }
   ],
   "source": [
    "class agent:\n",
    "    \n",
    "    def __init__(self, name, age):\n",
    "        print('Welcome to the game')\n",
    "        self.name = name\n",
    "        self.age= age\n",
    "        self.health = 100\n",
    "        self.alive = True  # Initialize alive status to True\n",
    "    \n",
    "    def curr_health(self):\n",
    "        print('Current health of', self.name, 'is', self.health)\n",
    "        \n",
    "    def punched(self):\n",
    "        self.health -= 5\n",
    "        \n",
    "    def shooted(self):\n",
    "        self.health -= 50\n",
    "        \n",
    "    def is_alive(self):\n",
    "        if self.health <= 0:\n",
    "            self.alive = False\n",
    "        else:\n",
    "            self.alive = True\n",
    "            \n",
    "    def info(self):\n",
    "        print('Name:', self.name)\n",
    "        print('Age:', self.age)\n",
    "        print('Health:', self.health)\n",
    "        print('Alive:', self.alive)\n",
    "        \n",
    "p1 = agent('Rahul', 25)\n",
    "p1.curr_health()\n",
    "p1.shooted()\n",
    "p1.shooted()\n",
    "p1.is_alive()\n",
    "p1.info()\n"
   ]
  },
  {
   "cell_type": "code",
   "execution_count": 58,
   "id": "d8dbe5e1",
   "metadata": {},
   "outputs": [
    {
     "name": "stdout",
     "output_type": "stream",
     "text": [
      "Welcome to the game\n",
      "Name: Dravid\n",
      "Age: 50\n",
      "Health: 95\n",
      "Alive: True\n",
      "blow fire!!!\n"
     ]
    }
   ],
   "source": [
    "#inheritance\n",
    "class boss(agent):\n",
    "    def blow_fire(self):\n",
    "        print('blow fire!!!')\n",
    "bs = boss('Dravid',50)\n",
    "bs.punched()\n",
    "bs.info()\n",
    "bs.blow_fire()"
   ]
  },
  {
   "cell_type": "code",
   "execution_count": null,
   "id": "a1ea3817",
   "metadata": {},
   "outputs": [],
   "source": []
  }
 ],
 "metadata": {
  "kernelspec": {
   "display_name": "Python 3 (ipykernel)",
   "language": "python",
   "name": "python3"
  },
  "language_info": {
   "codemirror_mode": {
    "name": "ipython",
    "version": 3
   },
   "file_extension": ".py",
   "mimetype": "text/x-python",
   "name": "python",
   "nbconvert_exporter": "python",
   "pygments_lexer": "ipython3",
   "version": "3.11.5"
  }
 },
 "nbformat": 4,
 "nbformat_minor": 5
}
